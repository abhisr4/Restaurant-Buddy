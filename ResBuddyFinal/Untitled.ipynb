{
 "cells": [
  {
   "cell_type": "code",
   "execution_count": 101,
   "metadata": {},
   "outputs": [],
   "source": [
    "import numpy as np\n",
    "import pandas as pd"
   ]
  },
  {
   "cell_type": "code",
   "execution_count": 102,
   "metadata": {},
   "outputs": [
    {
     "data": {
      "text/html": [
       "<div>\n",
       "<style scoped>\n",
       "    .dataframe tbody tr th:only-of-type {\n",
       "        vertical-align: middle;\n",
       "    }\n",
       "\n",
       "    .dataframe tbody tr th {\n",
       "        vertical-align: top;\n",
       "    }\n",
       "\n",
       "    .dataframe thead th {\n",
       "        text-align: right;\n",
       "    }\n",
       "</style>\n",
       "<table border=\"1\" class=\"dataframe\">\n",
       "  <thead>\n",
       "    <tr style=\"text-align: right;\">\n",
       "      <th></th>\n",
       "      <th>Unnamed: 0</th>\n",
       "      <th>name</th>\n",
       "      <th>voteCount</th>\n",
       "      <th>rating</th>\n",
       "      <th>address</th>\n",
       "      <th>cusine</th>\n",
       "      <th>cost</th>\n",
       "      <th>timing</th>\n",
       "      <th>lat</th>\n",
       "      <th>long</th>\n",
       "      <th>nearest</th>\n",
       "    </tr>\n",
       "  </thead>\n",
       "  <tbody>\n",
       "    <tr>\n",
       "      <th>0</th>\n",
       "      <td>0</td>\n",
       "      <td>Peter Cat</td>\n",
       "      <td>12404 votes</td>\n",
       "      <td>4.2</td>\n",
       "      <td>18A, Park Street, Park Street Area, Kolkata</td>\n",
       "      <td>North Indian, Continental</td>\n",
       "      <td>₹1,000</td>\n",
       "      <td>11am – 11:20pm (Mon-Sun)</td>\n",
       "      <td>22.552832</td>\n",
       "      <td>88.352399</td>\n",
       "      <td>The Hot Kati Roll, Rayyan Chinese Flavour, Dus...</td>\n",
       "    </tr>\n",
       "  </tbody>\n",
       "</table>\n",
       "</div>"
      ],
      "text/plain": [
       "   Unnamed: 0       name    voteCount rating  \\\n",
       "0           0  Peter Cat  12404 votes    4.2   \n",
       "\n",
       "                                       address                     cusine  \\\n",
       "0  18A, Park Street, Park Street Area, Kolkata  North Indian, Continental   \n",
       "\n",
       "     cost                    timing        lat       long  \\\n",
       "0  ₹1,000  11am – 11:20pm (Mon-Sun)  22.552832  88.352399   \n",
       "\n",
       "                                             nearest  \n",
       "0  The Hot Kati Roll, Rayyan Chinese Flavour, Dus...  "
      ]
     },
     "execution_count": 102,
     "metadata": {},
     "output_type": "execute_result"
    }
   ],
   "source": [
    "df=pd.read_csv(\"Preprocessing/finalProcessedData.csv\")\n",
    "df.head(1)"
   ]
  },
  {
   "cell_type": "code",
   "execution_count": 105,
   "metadata": {},
   "outputs": [
    {
     "data": {
      "text/plain": [
       "6913"
      ]
     },
     "execution_count": 105,
     "metadata": {},
     "output_type": "execute_result"
    }
   ],
   "source": [
    "addressDict={}\n",
    "a=df\n",
    "a=np.asarray(a)\n",
    "for i in range(len(a)):\n",
    "    addressDict[i]=a[i][1]\n",
    "len(addressDict)"
   ]
  },
  {
   "cell_type": "code",
   "execution_count": 106,
   "metadata": {},
   "outputs": [],
   "source": [
    "import json\n",
    "with open('cityID.json', 'w') as fp:\n",
    "    json.dump(addressDict, fp)"
   ]
  },
  {
   "cell_type": "code",
   "execution_count": 107,
   "metadata": {},
   "outputs": [
    {
     "data": {
      "text/plain": [
       "dict"
      ]
     },
     "execution_count": 107,
     "metadata": {},
     "output_type": "execute_result"
    }
   ],
   "source": [
    "f=open('cityID.json')\n",
    "data=json.load(f)\n",
    "f.close()\n",
    "type(data)"
   ]
  },
  {
   "cell_type": "code",
   "execution_count": 108,
   "metadata": {},
   "outputs": [
    {
     "data": {
      "text/html": [
       "<div>\n",
       "<style scoped>\n",
       "    .dataframe tbody tr th:only-of-type {\n",
       "        vertical-align: middle;\n",
       "    }\n",
       "\n",
       "    .dataframe tbody tr th {\n",
       "        vertical-align: top;\n",
       "    }\n",
       "\n",
       "    .dataframe thead th {\n",
       "        text-align: right;\n",
       "    }\n",
       "</style>\n",
       "<table border=\"1\" class=\"dataframe\">\n",
       "  <thead>\n",
       "    <tr style=\"text-align: right;\">\n",
       "      <th></th>\n",
       "      <th>lat</th>\n",
       "      <th>long</th>\n",
       "    </tr>\n",
       "  </thead>\n",
       "  <tbody>\n",
       "    <tr>\n",
       "      <th>0</th>\n",
       "      <td>22.552832</td>\n",
       "      <td>88.352399</td>\n",
       "    </tr>\n",
       "  </tbody>\n",
       "</table>\n",
       "</div>"
      ],
      "text/plain": [
       "         lat       long\n",
       "0  22.552832  88.352399"
      ]
     },
     "execution_count": 108,
     "metadata": {},
     "output_type": "execute_result"
    }
   ],
   "source": [
    "df=df[['lat','long']]\n",
    "df.head(1)"
   ]
  },
  {
   "cell_type": "code",
   "execution_count": 109,
   "metadata": {},
   "outputs": [
    {
     "data": {
      "text/plain": [
       "array([[22.5528321 , 88.352399  ],\n",
       "       [22.5528321 , 88.352399  ],\n",
       "       [22.5526415 , 88.3526536 ],\n",
       "       ...,\n",
       "       [22.69014805, 88.420821  ],\n",
       "       [22.6520429 , 88.4463299 ],\n",
       "       [22.9435382 , 88.43645515]])"
      ]
     },
     "execution_count": 109,
     "metadata": {},
     "output_type": "execute_result"
    }
   ],
   "source": [
    "df=np.asarray(df)\n",
    "df"
   ]
  },
  {
   "cell_type": "code",
   "execution_count": 110,
   "metadata": {},
   "outputs": [
    {
     "data": {
      "text/plain": [
       "numpy.float64"
      ]
     },
     "execution_count": 110,
     "metadata": {},
     "output_type": "execute_result"
    }
   ],
   "source": [
    "type(df[0][0])"
   ]
  },
  {
   "cell_type": "code",
   "execution_count": 124,
   "metadata": {},
   "outputs": [],
   "source": [
    "from sklearn.neighbors import NearestNeighbors\n",
    "nbrs = NearestNeighbors(n_neighbors=100).fit(df)\n"
   ]
  },
  {
   "cell_type": "code",
   "execution_count": 125,
   "metadata": {},
   "outputs": [
    {
     "data": {
      "text/plain": [
       "100"
      ]
     },
     "execution_count": 125,
     "metadata": {},
     "output_type": "execute_result"
    }
   ],
   "source": [
    "x,y=nbrs.kneighbors([[22.5523,88.3680]])\n",
    "len(y[0])"
   ]
  },
  {
   "cell_type": "code",
   "execution_count": 126,
   "metadata": {},
   "outputs": [
    {
     "data": {
      "text/plain": [
       "['knnModel.pkl']"
      ]
     },
     "execution_count": 126,
     "metadata": {},
     "output_type": "execute_result"
    }
   ],
   "source": [
    "from sklearn.externals import joblib\n",
    "joblib.dump(nbrs,\"knnModel.pkl\")"
   ]
  },
  {
   "cell_type": "code",
   "execution_count": 127,
   "metadata": {},
   "outputs": [
    {
     "data": {
      "text/plain": [
       "array([[ 545,  464,  521,  538,  667,  484,  535,  578,  751,  725,  356,\n",
       "         162,  398, 2419,  352,  533,  487,  350,  240,  708,  611,  683,\n",
       "          25,  285,  710,  110,  752,  591,  590, 5910, 1017,  161,  718,\n",
       "         717,  334,  618,  619,  544,  740,  570,  225,  436,  701,  421,\n",
       "        3241,  577,   19,  581,  347,  434,  732,  652,  408,  425,  246,\n",
       "         552,  737,  101,  692,  729,  719,  542,  203,  349,  391,  390,\n",
       "         393,  392,  394,   22,  109,  112,  647,  305,  306,  723,  383,\n",
       "         273,  247,  493,  694,  108,  127,   90,   80,   45,   46,  251,\n",
       "         648,   66,   96,  333,  113,  241,  191,   58,   97,   99,   98,\n",
       "         361]], dtype=int64)"
      ]
     },
     "execution_count": 127,
     "metadata": {},
     "output_type": "execute_result"
    }
   ],
   "source": [
    "knn=joblib.load('knnModel.pkl')\n",
    "x,y=knn.kneighbors([[22.5523,88.3680]])\n",
    "y"
   ]
  },
  {
   "cell_type": "code",
   "execution_count": 122,
   "metadata": {},
   "outputs": [
    {
     "data": {
      "text/plain": [
       "100"
      ]
     },
     "execution_count": 122,
     "metadata": {},
     "output_type": "execute_result"
    }
   ],
   "source": [
    "len(y[0])"
   ]
  },
  {
   "cell_type": "code",
   "execution_count": null,
   "metadata": {},
   "outputs": [],
   "source": []
  },
  {
   "cell_type": "code",
   "execution_count": 123,
   "metadata": {},
   "outputs": [
    {
     "data": {
      "text/plain": [
       "['Baba Kabab',\n",
       " 'Delhi Belly',\n",
       " 'Sajid Biryani & Roll',\n",
       " 'Lick N Chick',\n",
       " 'My Fast Food',\n",
       " 'Tasty King',\n",
       " \"New Qaiyum's Man Salwa Restaurant\",\n",
       " 'A A Biryani',\n",
       " 'Dhaba Fast Food',\n",
       " 'Mohammadi Fried Chicken',\n",
       " 'Abul Biryani',\n",
       " 'Be Kebabii',\n",
       " 'Dine 9',\n",
       " 'Sip N Lick',\n",
       " 'Bedouin',\n",
       " 'Hot Plate',\n",
       " 'Om Snacks Center',\n",
       " 'Shahi Dawat',\n",
       " 'China Hut',\n",
       " 'Nepal Chandra Sweets',\n",
       " 'Restaurant62',\n",
       " 'Alishan Biryani',\n",
       " 'NFC Food Funda',\n",
       " 'Chokherkhida',\n",
       " 'Sanjha Chulha',\n",
       " \"Haan 'D' Biryani\",\n",
       " 'Shaadi Ki Biryani',\n",
       " 'Majlish',\n",
       " 'Silver Nest',\n",
       " 'Abar Bangali',\n",
       " 'Hunger Bites',\n",
       " 'Berezia',\n",
       " 'Comboland',\n",
       " 'The Great Indian Biryani House',\n",
       " 'Madan Mohan Ghosh & Brothers',\n",
       " 'Eliot Sandwich Corner',\n",
       " 'Yummee',\n",
       " 'Calcutta Calling',\n",
       " \"Arshia's Kitchen\",\n",
       " 'Little Indulgence',\n",
       " 'WBFC Sandwiches N Burger',\n",
       " 'Fried N Grill',\n",
       " 'WBFC',\n",
       " 'Arabian Chicken Shawarma And Kebab',\n",
       " \"Friend's Cornerr\",\n",
       " 'Italy To India',\n",
       " 'Zainab Biryani',\n",
       " '7 Star Haji Biryani',\n",
       " 'Chand Biryani',\n",
       " 'Ather Biryani',\n",
       " 'Mummy Home Catering',\n",
       " 'Unnayan Cabin',\n",
       " 'Shabistan',\n",
       " 'Siddique Chicken Corner',\n",
       " 'Shaan E Ayan',\n",
       " 'New Gharib Nawaz Restaurant',\n",
       " 'Kolkata Biryani',\n",
       " 'Suruchi',\n",
       " 'Al Street Flavour',\n",
       " \"Gitika's Kitchen\",\n",
       " 'Shamim Biryani Corner',\n",
       " 'Dacca Mistano Bhandar',\n",
       " 'Kainat Food Corner',\n",
       " 'Ajmeri Biryani',\n",
       " 'Lazawab Biryani',\n",
       " 'Starter',\n",
       " 'Laziz Biryani Point',\n",
       " 'CRC',\n",
       " 'Aala Biryani House',\n",
       " 'Shiraz Golden Restaurant',\n",
       " 'Adraq',\n",
       " 'Lazeez Express',\n",
       " 'New Sangam Roll',\n",
       " \"Sri Gopal's Misthanna Bhandar\",\n",
       " 'New Delhi Juice & Shakes Ice Cream Parlour',\n",
       " 'Maharaja Thali',\n",
       " \"Qaiyum's Luqma\",\n",
       " 'Park Sweets',\n",
       " 'Al Baik Biryani & Fast Food Centre',\n",
       " 'New Royal Biryani',\n",
       " 'Kolkata Bhetki Fries',\n",
       " 'Kaveh - House Of Nawabs',\n",
       " 'Bombay Restaurant',\n",
       " 'The Hot Kati Roll',\n",
       " 'The GT Route - Jameson Inn Shiraz',\n",
       " 'Park Pavilion - Jameson Inn Shiraz Hotel',\n",
       " 'Rahmania',\n",
       " 'Green Olive',\n",
       " \"Jugal's\",\n",
       " \"Haldiram's Express\",\n",
       " 'Danish Biryani Hub',\n",
       " 'Entally Darbar',\n",
       " 'Chopstick',\n",
       " 'Taj Biryani & Restaurant',\n",
       " 'Zikra Biryani N Shakes',\n",
       " 'The Food King',\n",
       " 'Wow Chicken',\n",
       " 'Hunger Bites',\n",
       " 'Burger Express',\n",
       " \"What's Your Flavour?\"]"
      ]
     },
     "execution_count": 123,
     "metadata": {},
     "output_type": "execute_result"
    }
   ],
   "source": [
    "location=[]\n",
    "for loc in y[0]:\n",
    "    location.append(addressDict[loc])\n",
    "location"
   ]
  },
  {
   "cell_type": "code",
   "execution_count": null,
   "metadata": {},
   "outputs": [],
   "source": []
  },
  {
   "cell_type": "code",
   "execution_count": 34,
   "metadata": {},
   "outputs": [
    {
     "name": "stdout",
     "output_type": "stream",
     "text": [
      "22.548724   88.358294\n"
     ]
    }
   ],
   "source": [
    "from selenium import webdriver\n",
    "\n",
    "def scrapper(url):\n",
    "    url=url.lower()\n",
    "    googlemapUrl=\"https://www.google.com/maps/search/\"\n",
    "\n",
    "    option = webdriver.ChromeOptions()\n",
    "    prefs = {'profile.default_content_setting_values': {'images':2, 'javascript':2}} # for faster loading of webpages\n",
    "    option.add_experimental_option('prefs', prefs)\n",
    "\n",
    "    driver = webdriver.Chrome(\"C:\\\\Users\\\\Abhinaba\\\\Downloads\\\\chromedriver.exe\", options=option)\n",
    "    driver.get(googlemapUrl+url)\n",
    "    string=driver.find_element_by_css_selector('meta[itemprop=image]').get_attribute('content')\n",
    "    driver.close()\n",
    "    \n",
    "    if string.find('&zoom=')==False:\n",
    "        return \"Invalid\"\n",
    "    else:\n",
    "        x=string.split('?center=')[1].split('&zoom=')[0].split('%2C')[0]\n",
    "        y=string.split('?center=')[1].split('&zoom=')[0].split('%2C')[1]\n",
    "        return x,y\n",
    "\n",
    "\n",
    "#for debug purposes\n",
    "if __name__==\"__main__\":\n",
    "    x,y=scrapper(\"parkstreet\")\n",
    "    print(x,\" \",y)"
   ]
  },
  {
   "cell_type": "code",
   "execution_count": null,
   "metadata": {},
   "outputs": [],
   "source": []
  }
 ],
 "metadata": {
  "kernelspec": {
   "display_name": "Python 3",
   "language": "python",
   "name": "python3"
  },
  "language_info": {
   "codemirror_mode": {
    "name": "ipython",
    "version": 3
   },
   "file_extension": ".py",
   "mimetype": "text/x-python",
   "name": "python",
   "nbconvert_exporter": "python",
   "pygments_lexer": "ipython3",
   "version": "3.7.6"
  }
 },
 "nbformat": 4,
 "nbformat_minor": 4
}
